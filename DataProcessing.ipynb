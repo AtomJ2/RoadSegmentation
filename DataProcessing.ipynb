{
 "cells": [
  {
   "cell_type": "code",
   "execution_count": 1,
   "id": "046df8cb-c56b-43e3-a657-1f657e0161fa",
   "metadata": {},
   "outputs": [],
   "source": [
    "import os\n",
    "import cv2\n",
    "import numpy as np\n",
    "from PIL import Image\n",
    "import matplotlib.pyplot as plt\n",
    "import random"
   ]
  },
  {
   "cell_type": "code",
   "execution_count": 2,
   "id": "fb80f6a1-8bb7-4428-ad5e-c19435f9e522",
   "metadata": {},
   "outputs": [],
   "source": [
    "dirs = [\n",
    "        ('tiff_copy\\\\test', 'tiff_copy\\\\test_labels'), \n",
    "        ('tiff_copy\\\\train', 'tiff_copy\\\\train_labels'), \n",
    "        ('tiff_copy\\\\val', 'tiff_copy\\\\val_labels')\n",
    "       ]"
   ]
  },
  {
   "cell_type": "markdown",
   "id": "f9459fef-17c1-4f51-b134-c5b1680d9d9f",
   "metadata": {},
   "source": [
    "# Let's crop the images into 500x500 subimages and check which images don't have roads"
   ]
  },
  {
   "cell_type": "code",
   "execution_count": 3,
   "id": "35925363-d345-4001-b3f9-942c0cf9184e",
   "metadata": {},
   "outputs": [],
   "source": [
    "for X_dir, Y_dir in dirs:\n",
    "    for filename in os.listdir(X_dir):\n",
    "        if filename.endswith('.tiff'):\n",
    "            img = cv2.imread(os.path.join(X_dir, filename), cv2.IMREAD_UNCHANGED)\n",
    "            label_filename = '.'.join(filename.split('.')[:-1]) + '.tif'\n",
    "            label_img = cv2.imread(os.path.join(Y_dir, label_filename), cv2.IMREAD_UNCHANGED)\n",
    "\n",
    "            h, w = img.shape[:2]\n",
    "            rows = h // 500\n",
    "            cols = w // 500\n",
    "\n",
    "            for i in range(rows):\n",
    "                for j in range(cols):\n",
    "                    cropped_img = img[i * 500:(i + 1) * 500, j * 500:(j + 1) * 500]\n",
    "                    cropped_label_img = label_img[i * 500:(i + 1) * 500, j * 500:(j + 1) * 500]\n",
    "\n",
    "                    white_pixels = np.sum(cropped_label_img == 255)\n",
    "                    white = np.sum(cropped_img == 255)\n",
    "                    total_pixels = np.prod(cropped_label_img.shape)\n",
    "    \n",
    "                    if white_pixels/total_pixels > 0.02 and white/total_pixels < 0.1:\n",
    "                        cv2.imwrite(os.path.join(X_dir, f'{filename.replace('.tiff', '')}_{i}_{j}.tiff'), cropped_img)\n",
    "                        cv2.imwrite(os.path.join(Y_dir, f'{label_filename.replace('.tif', '')}_{i}_{j}.tif'), cropped_label_img)\n",
    "\n",
    "            os.remove(os.path.join(X_dir, filename))\n",
    "            os.remove(os.path.join(Y_dir, label_filename))"
   ]
  }
 ],
 "metadata": {
  "kernelspec": {
   "display_name": "Python 3 (ipykernel)",
   "language": "python",
   "name": "python3"
  },
  "language_info": {
   "codemirror_mode": {
    "name": "ipython",
    "version": 3
   },
   "file_extension": ".py",
   "mimetype": "text/x-python",
   "name": "python",
   "nbconvert_exporter": "python",
   "pygments_lexer": "ipython3",
   "version": "3.12.0"
  }
 },
 "nbformat": 4,
 "nbformat_minor": 5
}
